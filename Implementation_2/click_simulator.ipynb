{
 "cells": [
  {
   "cell_type": "code",
   "execution_count": 1,
   "metadata": {},
   "outputs": [],
   "source": [
    "%load_ext autoreload\n",
    "%autoreload 2"
   ]
  },
  {
   "cell_type": "code",
   "execution_count": 2,
   "metadata": {},
   "outputs": [
    {
     "name": "stdout",
     "output_type": "stream",
     "text": [
      "Requirement already satisfied: lightgbm in /home/anangin/.conda/envs/pytorch/lib/python3.10/site-packages (4.1.0)\n",
      "Requirement already satisfied: numpy in /home/anangin/.conda/envs/pytorch/lib/python3.10/site-packages (from lightgbm) (1.26.1)\n",
      "Requirement already satisfied: scipy in /home/anangin/.conda/envs/pytorch/lib/python3.10/site-packages (from lightgbm) (1.11.3)\n",
      "\u001b[33mWARNING: There was an error checking the latest version of pip.\u001b[0m\u001b[33m\n",
      "\u001b[0mNote: you may need to restart the kernel to use updated packages.\n"
     ]
    }
   ],
   "source": [
    "pip install lightgbm"
   ]
  },
  {
   "cell_type": "code",
   "execution_count": 3,
   "metadata": {},
   "outputs": [
    {
     "name": "stdout",
     "output_type": "stream",
     "text": [
      "Requirement already satisfied: scikit-learn in /home/anangin/.conda/envs/pytorch/lib/python3.10/site-packages (1.3.1)\n",
      "Requirement already satisfied: numpy<2.0,>=1.17.3 in /home/anangin/.conda/envs/pytorch/lib/python3.10/site-packages (from scikit-learn) (1.26.1)\n",
      "Requirement already satisfied: scipy>=1.5.0 in /home/anangin/.conda/envs/pytorch/lib/python3.10/site-packages (from scikit-learn) (1.11.3)\n",
      "Requirement already satisfied: joblib>=1.1.1 in /home/anangin/.conda/envs/pytorch/lib/python3.10/site-packages (from scikit-learn) (1.3.2)\n",
      "Requirement already satisfied: threadpoolctl>=2.0.0 in /home/anangin/.conda/envs/pytorch/lib/python3.10/site-packages (from scikit-learn) (3.2.0)\n",
      "\u001b[33mWARNING: There was an error checking the latest version of pip.\u001b[0m\u001b[33m\n",
      "\u001b[0mNote: you may need to restart the kernel to use updated packages.\n"
     ]
    }
   ],
   "source": [
    "pip install scikit-learn"
   ]
  },
  {
   "cell_type": "code",
   "execution_count": 4,
   "metadata": {},
   "outputs": [
    {
     "name": "stdout",
     "output_type": "stream",
     "text": [
      "Requirement already satisfied: pandas in /home/anangin/.conda/envs/pytorch/lib/python3.10/site-packages (2.1.1)\n",
      "Requirement already satisfied: numpy>=1.22.4 in /home/anangin/.conda/envs/pytorch/lib/python3.10/site-packages (from pandas) (1.26.1)\n",
      "Requirement already satisfied: python-dateutil>=2.8.2 in /home/anangin/.conda/envs/pytorch/lib/python3.10/site-packages (from pandas) (2.8.2)\n",
      "Requirement already satisfied: pytz>=2020.1 in /home/anangin/.conda/envs/pytorch/lib/python3.10/site-packages (from pandas) (2023.3.post1)\n",
      "Requirement already satisfied: tzdata>=2022.1 in /home/anangin/.conda/envs/pytorch/lib/python3.10/site-packages (from pandas) (2023.3)\n",
      "Requirement already satisfied: six>=1.5 in /home/anangin/.conda/envs/pytorch/lib/python3.10/site-packages (from python-dateutil>=2.8.2->pandas) (1.16.0)\n",
      "\u001b[33mWARNING: There was an error checking the latest version of pip.\u001b[0m\u001b[33m\n",
      "\u001b[0mNote: you may need to restart the kernel to use updated packages.\n"
     ]
    }
   ],
   "source": [
    "pip install pandas"
   ]
  },
  {
   "cell_type": "code",
   "execution_count": 5,
   "metadata": {},
   "outputs": [
    {
     "name": "stdout",
     "output_type": "stream",
     "text": [
      "Requirement already satisfied: plotly in /home/anangin/.conda/envs/pytorch/lib/python3.10/site-packages (5.17.0)\n",
      "Requirement already satisfied: tenacity>=6.2.0 in /home/anangin/.conda/envs/pytorch/lib/python3.10/site-packages (from plotly) (8.2.3)\n",
      "Requirement already satisfied: packaging in /home/anangin/.conda/envs/pytorch/lib/python3.10/site-packages (from plotly) (23.1)\n",
      "\u001b[33mWARNING: There was an error checking the latest version of pip.\u001b[0m\u001b[33m\n",
      "\u001b[0mNote: you may need to restart the kernel to use updated packages.\n"
     ]
    }
   ],
   "source": [
    "pip install plotly"
   ]
  },
  {
   "cell_type": "code",
   "execution_count": 6,
   "metadata": {},
   "outputs": [
    {
     "name": "stdout",
     "output_type": "stream",
     "text": [
      "Requirement already satisfied: absl-py in /home/anangin/.conda/envs/pytorch/lib/python3.10/site-packages (2.0.0)\n",
      "\u001b[33mWARNING: There was an error checking the latest version of pip.\u001b[0m\u001b[33m\n",
      "\u001b[0mNote: you may need to restart the kernel to use updated packages.\n"
     ]
    }
   ],
   "source": [
    "pip install absl-py"
   ]
  },
  {
   "cell_type": "code",
   "execution_count": 7,
   "metadata": {},
   "outputs": [
    {
     "name": "stdout",
     "output_type": "stream",
     "text": [
      "Requirement already satisfied: tqdm in /home/anangin/.conda/envs/pytorch/lib/python3.10/site-packages (4.66.1)\n",
      "\u001b[33mWARNING: There was an error checking the latest version of pip.\u001b[0m\u001b[33m\n",
      "\u001b[0mNote: you may need to restart the kernel to use updated packages.\n"
     ]
    }
   ],
   "source": [
    "pip install tqdm"
   ]
  },
  {
   "cell_type": "code",
   "execution_count": 8,
   "metadata": {
    "tags": []
   },
   "outputs": [
    {
     "name": "stdout",
     "output_type": "stream",
     "text": [
      "Requirement already satisfied: torch in /home/anangin/.conda/envs/pytorch/lib/python3.10/site-packages (2.1.0)\n",
      "Requirement already satisfied: filelock in /home/anangin/.conda/envs/pytorch/lib/python3.10/site-packages (from torch) (3.12.4)\n",
      "Requirement already satisfied: typing-extensions in /home/anangin/.conda/envs/pytorch/lib/python3.10/site-packages (from torch) (4.7.1)\n",
      "Requirement already satisfied: sympy in /home/anangin/.conda/envs/pytorch/lib/python3.10/site-packages (from torch) (1.12)\n",
      "Requirement already satisfied: networkx in /home/anangin/.conda/envs/pytorch/lib/python3.10/site-packages (from torch) (3.2)\n",
      "Requirement already satisfied: jinja2 in /home/anangin/.conda/envs/pytorch/lib/python3.10/site-packages (from torch) (3.1.2)\n",
      "Requirement already satisfied: fsspec in /home/anangin/.conda/envs/pytorch/lib/python3.10/site-packages (from torch) (2023.9.2)\n",
      "Requirement already satisfied: nvidia-cuda-nvrtc-cu12==12.1.105 in /home/anangin/.conda/envs/pytorch/lib/python3.10/site-packages (from torch) (12.1.105)\n",
      "Requirement already satisfied: nvidia-cuda-runtime-cu12==12.1.105 in /home/anangin/.conda/envs/pytorch/lib/python3.10/site-packages (from torch) (12.1.105)\n",
      "Requirement already satisfied: nvidia-cuda-cupti-cu12==12.1.105 in /home/anangin/.conda/envs/pytorch/lib/python3.10/site-packages (from torch) (12.1.105)\n",
      "Requirement already satisfied: nvidia-cudnn-cu12==8.9.2.26 in /home/anangin/.conda/envs/pytorch/lib/python3.10/site-packages (from torch) (8.9.2.26)\n",
      "Requirement already satisfied: nvidia-cublas-cu12==12.1.3.1 in /home/anangin/.conda/envs/pytorch/lib/python3.10/site-packages (from torch) (12.1.3.1)\n",
      "Requirement already satisfied: nvidia-cufft-cu12==11.0.2.54 in /home/anangin/.conda/envs/pytorch/lib/python3.10/site-packages (from torch) (11.0.2.54)\n",
      "Requirement already satisfied: nvidia-curand-cu12==10.3.2.106 in /home/anangin/.conda/envs/pytorch/lib/python3.10/site-packages (from torch) (10.3.2.106)\n",
      "Requirement already satisfied: nvidia-cusolver-cu12==11.4.5.107 in /home/anangin/.conda/envs/pytorch/lib/python3.10/site-packages (from torch) (11.4.5.107)\n",
      "Requirement already satisfied: nvidia-cusparse-cu12==12.1.0.106 in /home/anangin/.conda/envs/pytorch/lib/python3.10/site-packages (from torch) (12.1.0.106)\n",
      "Requirement already satisfied: nvidia-nccl-cu12==2.18.1 in /home/anangin/.conda/envs/pytorch/lib/python3.10/site-packages (from torch) (2.18.1)\n",
      "Requirement already satisfied: nvidia-nvtx-cu12==12.1.105 in /home/anangin/.conda/envs/pytorch/lib/python3.10/site-packages (from torch) (12.1.105)\n",
      "Requirement already satisfied: triton==2.1.0 in /home/anangin/.conda/envs/pytorch/lib/python3.10/site-packages (from torch) (2.1.0)\n",
      "Requirement already satisfied: nvidia-nvjitlink-cu12 in /home/anangin/.conda/envs/pytorch/lib/python3.10/site-packages (from nvidia-cusolver-cu12==11.4.5.107->torch) (12.3.52)\n",
      "Requirement already satisfied: MarkupSafe>=2.0 in /home/anangin/.conda/envs/pytorch/lib/python3.10/site-packages (from jinja2->torch) (2.1.1)\n",
      "Requirement already satisfied: mpmath>=0.19 in /home/anangin/.conda/envs/pytorch/lib/python3.10/site-packages (from sympy->torch) (1.3.0)\n",
      "\u001b[33mWARNING: There was an error checking the latest version of pip.\u001b[0m\u001b[33m\n",
      "\u001b[0mNote: you may need to restart the kernel to use updated packages.\n"
     ]
    }
   ],
   "source": [
    "pip install torch"
   ]
  },
  {
   "cell_type": "code",
   "execution_count": 9,
   "metadata": {
    "tags": []
   },
   "outputs": [
    {
     "name": "stdout",
     "output_type": "stream",
     "text": [
      "Requirement already satisfied: matplotlib in /home/anangin/.conda/envs/pytorch/lib/python3.10/site-packages (3.8.0)\n",
      "Requirement already satisfied: contourpy>=1.0.1 in /home/anangin/.conda/envs/pytorch/lib/python3.10/site-packages (from matplotlib) (1.1.1)\n",
      "Requirement already satisfied: cycler>=0.10 in /home/anangin/.conda/envs/pytorch/lib/python3.10/site-packages (from matplotlib) (0.12.1)\n",
      "Requirement already satisfied: fonttools>=4.22.0 in /home/anangin/.conda/envs/pytorch/lib/python3.10/site-packages (from matplotlib) (4.43.1)\n",
      "Requirement already satisfied: kiwisolver>=1.0.1 in /home/anangin/.conda/envs/pytorch/lib/python3.10/site-packages (from matplotlib) (1.4.5)\n",
      "Requirement already satisfied: numpy<2,>=1.21 in /home/anangin/.conda/envs/pytorch/lib/python3.10/site-packages (from matplotlib) (1.26.1)\n",
      "Requirement already satisfied: packaging>=20.0 in /home/anangin/.conda/envs/pytorch/lib/python3.10/site-packages (from matplotlib) (23.1)\n",
      "Requirement already satisfied: pillow>=6.2.0 in /home/anangin/.conda/envs/pytorch/lib/python3.10/site-packages (from matplotlib) (10.1.0)\n",
      "Requirement already satisfied: pyparsing>=2.3.1 in /home/anangin/.conda/envs/pytorch/lib/python3.10/site-packages (from matplotlib) (3.1.1)\n",
      "Requirement already satisfied: python-dateutil>=2.7 in /home/anangin/.conda/envs/pytorch/lib/python3.10/site-packages (from matplotlib) (2.8.2)\n",
      "Requirement already satisfied: six>=1.5 in /home/anangin/.conda/envs/pytorch/lib/python3.10/site-packages (from python-dateutil>=2.7->matplotlib) (1.16.0)\n",
      "\u001b[33mWARNING: There was an error checking the latest version of pip.\u001b[0m\u001b[33m\n",
      "\u001b[0mNote: you may need to restart the kernel to use updated packages.\n"
     ]
    }
   ],
   "source": [
    "pip install matplotlib"
   ]
  },
  {
   "cell_type": "code",
   "execution_count": 10,
   "metadata": {},
   "outputs": [
    {
     "name": "stdout",
     "output_type": "stream",
     "text": [
      "1\n"
     ]
    }
   ],
   "source": [
    "import numpy as np\n",
    "import torch\n",
    "from torch import nn\n",
    "from data_util import *\n",
    "import metrics\n",
    "import time\n",
    "import pandas as pd\n",
    "#from MyUtil import *\n",
    "import matplotlib.pyplot as plt\n",
    "import plotly.express as px\n",
    "\n",
    "import lightgbm as lgb\n",
    "print(\"1\")\n",
    "graded_datapath = {\n",
    "'yahoo':'_data/ltrc_yahoo/set1.binarized_purged_querynorm_filtered.npz',\n",
    "'mslr':'_data/MSLR-WEB30k/Fold1/binarized_purged_querynorm_filtered.npz',\n",
    "               }\n",
    "binary_datapath = {\n",
    "'yahoo':'_data/ltrc_yahoo/set1.binarized_purged_querynorm_filtered.binrel.pkl',\n",
    "'mslr':'_data/MSLR-WEB30k/Fold1/binarized_purged_querynorm_filtered.binrel.pkl',\n",
    "               }\n",
    "\n",
    "results_dir = '_data/outlier/'"
   ]
  },
  {
   "cell_type": "code",
   "execution_count": 11,
   "metadata": {},
   "outputs": [],
   "source": [
    "from tqdm.notebook import trange\n",
    "\n",
    "\n",
    "def get_params(params, outliers=9, topk=20):\n",
    "    if isinstance(params, str):\n",
    "        with open(params, 'rb') as f:\n",
    "            params = pickle.load(f)\n",
    "    params = pd.DataFrame(params).T\n",
    "    sessions_dist = params['count'][:outliers+1]\n",
    "    sessions_dist /= sessions_dist.sum()\n",
    "    sessions_dist = sessions_dist.values\n",
    "    for col in ['propensity', 'epsilon_p', 'epsilon_n']:\n",
    "        params[col] = params[col].apply(lambda x: np.array(x).astype(np.float64)[None,:topk])\n",
    "    params['propensity'] = params['propensity'].apply(np.array)\n",
    "    p = np.concatenate(params['propensity'][:outliers+1].values, 0)\n",
    "    ep = np.concatenate(params['epsilon_p'][:outliers+1].values, 0)\n",
    "    en = np.concatenate(params['epsilon_n'][:outliers+1].values, 0)\n",
    "    betas = p * en\n",
    "    alphas = p * ep - betas\n",
    "    return alphas, betas, sessions_dist.astype(np.float64)\n",
    "    \n",
    "def make_params_readable(pkl_path):\n",
    "    if isinstance(pkl_path, str):\n",
    "        with open(pkl_path, 'rb') as f:\n",
    "            params = pd.DataFrame(pickle.load(f))\n",
    "    else:\n",
    "        params = pkl_path\n",
    "    df = pd.DataFrame(params).T\n",
    "    topk = len(df.propensity.iloc[0])\n",
    "    for col in ['propensity', 'epsilon_n', 'epsilon_p']:\n",
    "        df[[f'{col}_{i+1}' for i in range(topk)]] = df[col].to_list()\n",
    "    for i in range(topk):\n",
    "        df[f'zp_{i+1}'] = df[f'propensity_{i+1}'] * df[f'epsilon_p_{i+1}']\n",
    "        df[f'zn_{i+1}'] = df[f'propensity_{i+1}'] * df[f'epsilon_n_{i+1}']\n",
    "        df[f'z_{i+1}'] = df[[f'zp_{i+1}', f'zn_{i+1}']].agg(list, axis=1)\n",
    "    return df[[f'z_{i+1}' for i in range(topk)]]\n",
    "\n",
    "def generate_clicks_pbm(params, outliers_max_pos, topk, ds, sessions_cnt, save_path, outliers_path):\n",
    "    alphas, betas, sessions_dist = get_params(params, outliers=outliers_max_pos, topk=topk)\n",
    "    \n",
    "    clicks = []\n",
    "    session_inds = np.random.choice(\n",
    "        np.arange(alphas.shape[0]), \n",
    "        size=(ds.trdlr.shape[0] - 1,), replace=True, p=sessions_dist)\n",
    "    total_clicks_cnt = 0\n",
    "    outlierness = []\n",
    "#     Make the labels binary if not already!\n",
    "    if ds.trlv.max() > 1:\n",
    "        ds.trlv = np.round(ds.trlv/ds.trlv.max(), 0)\n",
    "    print(\"len(ds.trid)\",len(ds.trid)) \n",
    "    qid_dict={}\n",
    "    cc=0\n",
    "    for i in range(len(ds.trid)):\n",
    "        if(ds.trid[i] not in qid_dict.keys()):\n",
    "            qid_dict[ds.trid[i]]=0\n",
    "            cc=cc+1\n",
    "    for qid in trange(ds.trdlr.shape[0] - 1, leave=False):\n",
    "        #print(\"Count\",qid)\n",
    "        s, e = ds.trdlr[qid: qid+2]\n",
    "        session_ind = min(session_inds[qid], e-s)\n",
    "        alpha = alphas[session_ind]\n",
    "        beta = betas[session_ind]\n",
    "        q_session = np.repeat(ds.sessions[qid], sessions_cnt//ds.sessions[qid].shape[0], 0)\n",
    "        rel = ds.trlv[s:e]\n",
    "        q_a = np.ones_like(rel) * alpha[-1]\n",
    "        q_a[:min(e-s, alpha.shape[0])] = alpha[:min(e-s, alpha.shape[0])]\n",
    "        q_b = np.ones_like(rel) * beta[-1]\n",
    "        q_b[:min(e-s, beta.shape[0])] = beta[:min(e-s, beta.shape[0])]\n",
    "        c = q_a * rel[q_session] + q_b\n",
    "        last=-1\n",
    "        const=1.06\n",
    "        for i in range(len(c)):\n",
    "            k=np.random.binomial(1, c[i])\n",
    "            #print(\"kiii\",k)\n",
    "            f=0\n",
    "            for j in range(len(c[0])):\n",
    "                if(last==j):\n",
    "                    if(c[i][j]*const<1):\n",
    "                        c[i][j]=c[i][j]*const\n",
    "            for j in range(len(c[0])):\n",
    "                if(k[j]==1):\n",
    "                    last=j\n",
    "                    f=1\n",
    "        \n",
    "            if(f==0):\n",
    "                last=-1\n",
    "            \n",
    "            #print(\"new\",np.random.binomial(1, c[i]))\n",
    "        clicks.append(np.random.binomial(1, c))\n",
    "        #print(len(np.where(clicks[-1]==1)[0]))\n",
    "        #if(clicks[-1]==1):\n",
    "        #   qid_dict[ds.trid[qid]]+= 1\n",
    "        total_clicks_cnt += len(np.where(clicks[-1]==1)[0])\n",
    "        q_outliers = np.zeros(e-s)\n",
    "        if session_ind > 0:\n",
    "            q_outliers[session_ind - 1] = 1.\n",
    "        outlierness.append(q_outliers)\n",
    "        \n",
    "    with open(save_path, 'wb') as f:\n",
    "        pickle.dump(clicks, f)\n",
    "    with open(outliers_path, 'wb') as f:\n",
    "        pickle.dump(np.concatenate(outlierness,0), f)\n",
    "    return total_clicks_cnt\n",
    "    "
   ]
  },
  {
   "cell_type": "markdown",
   "metadata": {},
   "source": [
    "---\n",
    "\n",
    "### Binarize levels"
   ]
  },
  {
   "cell_type": "code",
   "execution_count": 12,
   "metadata": {},
   "outputs": [
    {
     "name": "stdout",
     "output_type": "stream",
     "text": [
      "5000 5000 5000\n",
      "[   1   14   14 ... 5000 5000 5000]\n"
     ]
    }
   ],
   "source": [
    "for dataset_name in ['yahoo']:\n",
    "    dataset = read_pkl(graded_datapath[dataset_name])\n",
    "    #print(dataset.valv)\n",
    "    #dataset.trlv = np.round(dataset.trlv/4,0)\n",
    "    #dataset.valv = np.round(dataset.valv/4,0)\n",
    "    #dataset.telv = np.round(dataset.telv/4,0)\n",
    "    #print(dataset.valv)\n",
    "\n",
    "    \n",
    "    \n",
    "    with open(binary_datapath[dataset_name], 'wb') as f:\n",
    "        pickle.dump(dataset.__dict__, f)\n",
    "    print(len(dataset.trlv),len(dataset.trfm),len(dataset.trdlr))\n",
    "    print(dataset.trdlr)\n",
    "    "
   ]
  },
  {
   "cell_type": "markdown",
   "metadata": {},
   "source": [
    "---\n",
    "\n",
    "### Production ranker"
   ]
  },
  {
   "cell_type": "code",
   "execution_count": 13,
   "metadata": {
    "scrolled": true,
    "tags": []
   },
   "outputs": [],
   "source": [
    "sessions_datapath = {\n",
    "    \"yahoo\": \"_data/ltrc_yahoo/sessions_fix.pkl\",\n",
    "    \"mslr\": \"_data/MSLR-WEB30k/Fold1/sessions_fix.pkl\"\n",
    "}\n",
    "\n",
    "\n",
    "def lambdarank(dataset, model_path=None, learning_rate=0.05, num_leaves=31, n_estimators=300, eval_at=[10], early_stopping_rounds=10000):\n",
    "    start = time.time()\n",
    "    if model_path is not None and os.path.exists(model_path):\n",
    "        booster = lgb.Booster(model_file=model_path)\n",
    "        print('loading lgb took {} secs.'.format(time.time() - start))\n",
    "        return booster\n",
    "\n",
    "    gbm = lgb.LGBMRanker(learning_rate=learning_rate, n_estimators=n_estimators, num_leaves=num_leaves)\n",
    "\n",
    "    gbm.fit(dataset.trfm, dataset.trlv, \n",
    "          group=np.diff(dataset.trdlr), \n",
    "          eval_set=[(dataset.vafm, dataset.valv)],\n",
    "          eval_group=[np.diff(dataset.vadlr)], \n",
    "          eval_at=eval_at, \n",
    "          early_stopping_rounds=early_stopping_rounds, \n",
    "          verbose=False\n",
    "           )\n",
    "\n",
    "    if model_path is not None:\n",
    "        gbm.booster_.save_model(model_path)\n",
    "\n",
    "    print('training lgb took {} secs.'.format(time.time() - start))\n",
    "    return gbm.booster_\n"
   ]
  },
  {
   "cell_type": "code",
   "execution_count": 14,
   "metadata": {},
   "outputs": [
    {
     "name": "stdout",
     "output_type": "stream",
     "text": [
      "yahoo_production.gbt\n",
      "loading lgb took 0.006299734115600586 secs.\n",
      "y [0 1 1 ... 2 1 1]\n",
      "y [0 1 0 ... 0 2 1]\n",
      "yahoo train: 0.5938756504198666 , test: 0.558571778350926\n"
     ]
    }
   ],
   "source": [
    "\n",
    "for dataset_name in ['yahoo']:\n",
    "    with open(binary_datapath[dataset_name], 'rb') as f:\n",
    "        dataset = type('ltr', (object,), pickle.load(f))\n",
    "        \n",
    "   \n",
    "    small_dataset = subsample_splits(dataset, 20, 777)\n",
    "    print(f'{dataset_name}_production.gbt')\n",
    "    booster = lambdarank(small_dataset, model_path=f'{dataset_name}_production.gbt')\n",
    "    \n",
    "    te_y_pred = booster.predict(dataset.tefm)\n",
    "    te_metric = metrics.LTRMetrics(dataset.telv,np.diff(dataset.tedlr),te_y_pred)\n",
    "    tr_y_pred = booster.predict(dataset.trfm)\n",
    "    tr_metric = metrics.LTRMetrics(dataset.trlv,np.diff(dataset.trdlr),tr_y_pred)\n",
    "    \n",
    "    print(dataset_name, 'train:', tr_metric.NDCG(10), ', test:', te_metric.NDCG(10))\n",
    "    \n",
    "    sessions = []\n",
    "    for qid in range(dataset.trdlr.shape[0] - 1):\n",
    "        s, e = dataset.trdlr[qid: qid+2]\n",
    "        y = tr_y_pred[s:e]\n",
    "        argsorted = y.argsort()[::-1]\n",
    "        \n",
    "        sessions.append(argsorted[None,:])\n",
    "        \n",
    "        with open(sessions_datapath[dataset_name], 'wb') as f:\n",
    "            pickle.dump(sessions, f)\n",
    "    "
   ]
  },
  {
   "cell_type": "markdown",
   "metadata": {},
   "source": [
    "---\n",
    "\n",
    "### top10"
   ]
  },
  {
   "cell_type": "code",
   "execution_count": 15,
   "metadata": {},
   "outputs": [],
   "source": [
    "topk = 10\n",
    "\n",
    "topk_datapath = {\n",
    "'yahoo': f'_data/ltrc_yahoo/top{topk}.set1.binarized_purged_querynorm_filtered.binrel.pkl',\n",
    "#'mslr': f'_data/MSLR-WEB30k/Fold1/top{topk}.binarized_purged_querynorm_filtered.binrel.pkl',\n",
    "               }\n",
    "\n",
    "topk_sessions_datapath = {\n",
    "    \"yahoo\": f\"_data/ltrc_yahoo/top{topk}.sessions_fix.pkl\",\n",
    "    #\"mslr\": f\"_data/MSLR-WEB30k/Fold1/top{topk}.sessions_fix.pkl\"\n",
    "}\n"
   ]
  },
  {
   "cell_type": "code",
   "execution_count": 16,
   "metadata": {},
   "outputs": [
    {
     "name": "stdout",
     "output_type": "stream",
     "text": [
      "y [1 1 0 ... 0 0 1]\n",
      "after top10: yahoo 0.7532169303612168\n"
     ]
    }
   ],
   "source": [
    "\n",
    "for dataset_name in ['yahoo']:\n",
    "    with open(sessions_datapath[dataset_name], 'rb') as f:\n",
    "        sessions = pickle.load(f)\n",
    "    with open(binary_datapath[dataset_name], 'rb') as f:\n",
    "        dataset = pickle.load(f)\n",
    "    \n",
    "    topk_sessions = []\n",
    "    fms, dlrs, lvs = [], [0], []\n",
    "    for qid in range(len(sessions)):\n",
    "        session = sessions[qid][0,:topk]\n",
    "        s_i, e_i = dataset['trdlr'][qid:qid+2]\n",
    "        fm_ = dataset['trfm'][s_i:e_i, :]\n",
    "        lv_ = dataset['trlv'][s_i:e_i]\n",
    "        if sum(lv_[session]) > 1:\n",
    "            fms.append(fm_[session, :])\n",
    "            dlrs.append(session.shape[0])\n",
    "            lvs.append(lv_[session])\n",
    "            topk_sessions.append(np.arange(session.shape[0])[None,:])\n",
    "    dataset['trfm'] = np.concatenate(fms, 0)\n",
    "    dataset['trdlr'] = np.cumsum(dlrs)\n",
    "    dataset['trlv'] = np.concatenate(lvs, 0)\n",
    "    \n",
    "    \n",
    "    print(f'after top{topk}:', dataset_name, metrics.LTRMetrics(dataset['trlv'],np.diff(dataset['trdlr']),-np.arange(dataset['trlv'].shape[0])).NDCG(10))\n",
    "\n",
    "    with open(topk_sessions_datapath[dataset_name], 'wb') as f:\n",
    "        pickle.dump(topk_sessions, f)\n",
    "    \n",
    "    with open(topk_datapath[dataset_name], 'wb') as f:\n",
    "        pickle.dump(dataset, f)\n",
    "    \n",
    "    "
   ]
  },
  {
   "cell_type": "markdown",
   "metadata": {},
   "source": [
    "#### relevant freq"
   ]
  },
  {
   "cell_type": "code",
   "execution_count": 17,
   "metadata": {},
   "outputs": [
    {
     "name": "stdout",
     "output_type": "stream",
     "text": [
      "yahoo 318 queries\n",
      "{6: 3, 5: 7, 8: 11, 17: 27, 10: 23, 7: 13, 4: 13, 16: 23, 12: 21, 13: 22, 18: 16, 11: 19, 2: 6, 22: 8, 21: 14, 24: 1, 23: 5, 9: 11, 20: 9, 14: 21, 15: 21, 3: 9, 19: 13, 27: 1, 30: 1}\n"
     ]
    }
   ],
   "source": [
    "from collections import defaultdict\n",
    "\n",
    "for dataset_name in ['yahoo']:\n",
    "    with open(topk_datapath[dataset_name], 'rb') as f:\n",
    "        dataset = pickle.load(f)\n",
    "        \n",
    "    freq = defaultdict(lambda : 0)\n",
    "    print(dataset_name, dataset['trdlr'].shape[0] - 1, 'queries')\n",
    "    for qid in range(dataset['trdlr'].shape[0] - 1):\n",
    "        s_i , e_i = dataset['trdlr'][qid:qid+2]\n",
    "        freq[sum(dataset['trlv'][s_i:e_i])] += 1\n",
    "    \n",
    "    print(dict(freq))"
   ]
  },
  {
   "cell_type": "markdown",
   "metadata": {},
   "source": [
    "---\n",
    "\n",
    "### Full info"
   ]
  },
  {
   "cell_type": "code",
   "execution_count": 18,
   "metadata": {},
   "outputs": [],
   "source": [
    "def read_results(jobid, results_dir = '_data/outlier/'):\n",
    "    \n",
    "    files_list = os.listdir(results_dir)\n",
    "\n",
    "    dfs = []\n",
    "    for file in files_list:\n",
    "        if ((jobid is not None and jobid in file) or (jobid is None)) and file.endswith('.json'):\n",
    "            df = pd.read_json(os.path.join(results_dir, file), lines=True)\n",
    "            df['file_name'] = file\n",
    "            dfs.append(df)\n",
    "    full_df = pd.concat(dfs)\n",
    "\n",
    "    max_epoch_dfs = []\n",
    "    for dataset in full_df.dataset.unique():\n",
    "        tmp_df = full_df.loc[(full_df.dataset == dataset)]\n",
    "        max_epoch_dfs.append(tmp_df.loc[(tmp_df.epoch == tmp_df.epoch.max())])\n",
    "        print(dataset, 'epoch:', tmp_df.epoch.max())\n",
    "    full_df = pd.concat(max_epoch_dfs)\n",
    "    values=['train_clicks','train']\n",
    "    if 'valid' in full_df:\n",
    "        values.append('valid')\n",
    "    if 'test' in full_df:\n",
    "        values.append('test')\n",
    "        full_df = full_df.loc[~full_df.test.isna()]\n",
    "    pv = pd.pivot_table(full_df, values=values, columns=['dataset'], aggfunc=lambda x: f'{len(x)} -> {np.nanmean(x):.04f} ' + u\"\\u00B1\" + f' {np.nanstd(x):.04f}')\n",
    "    return pv"
   ]
  },
  {
   "cell_type": "markdown",
   "metadata": {},
   "source": [
    "---\n",
    "\n",
    "### Gaussian"
   ]
  },
  {
   "cell_type": "code",
   "execution_count": 19,
   "metadata": {},
   "outputs": [],
   "source": [
    "def add_dists(big, small, position, alpha):\n",
    "    print(\"big, small, position, alpha\",big, small, position, alpha)\n",
    "    mid_pos = int(len(small)/2)\n",
    "    if position < mid_pos:\n",
    "        small = small[mid_pos-position:]\n",
    "    small = np.pad(small, (max(0, position-mid_pos), 0,))\n",
    "    return (1-alpha) * big + (alpha) * np.pad(small, (0, len(big)-len(small),))\n",
    "\n",
    "def put_on_top(big, small, position, alpha):\n",
    "    mid_pos = int(len(small)/2)\n",
    "    if position < mid_pos:\n",
    "        small = small[mid_pos-position:]\n",
    "    start_pos = max(0, position-mid_pos)\n",
    "    big[start_pos:start_pos + len(small)] = (1-alpha) * big[start_pos:start_pos + len(small)] + (alpha) * small\n",
    "    return big\n",
    "    \n",
    "def create_params(outlier_share, outliers=7, topk=20, only_outliers=True):\n",
    "    print(\"outlier_share\",outlier_share)\n",
    "    theta = np.array([(1./(i+1.)) for i in range(topk)])\n",
    "    ep = np.array([0.98-(i/100.) for i in range(topk)])\n",
    "    en = np.ones_like(theta)*0.05\n",
    "\n",
    "    gauss_theta = np.array([0.3, 1, 0.3, 0.05])\n",
    "    gaussp = np.ones_like(gauss_theta)\n",
    "    gaussn = np.ones_like(gauss_theta)*0.05\n",
    "    \n",
    "    params = {}\n",
    "    offset = 0.\n",
    "    if not only_outliers:\n",
    "        params['0.0'] = {'propensity':list(theta), 'epsilon_p':list(ep), 'epsilon_n':list(en), 'count':100}\n",
    "        offset = 1.\n",
    "    for position in range(outliers):\n",
    "        params[f'{position + offset}'] = {'propensity':list(add_dists(theta, gauss_theta, position, outlier_share)), \n",
    "                                       'epsilon_p':list(put_on_top(ep, gaussp, position, outlier_share)), \n",
    "                                       'epsilon_n':list(put_on_top(en, gaussn, position, outlier_share)),\n",
    "                                       'count':50}\n",
    "        \n",
    "    return params\n",
    "\n"
   ]
  },
  {
   "cell_type": "markdown",
   "metadata": {},
   "source": [
    "---\n",
    "\n",
    "**PBM clicks**"
   ]
  },
  {
   "cell_type": "markdown",
   "metadata": {},
   "source": [
    "#### simple pbm"
   ]
  },
  {
   "cell_type": "code",
   "execution_count": 20,
   "metadata": {},
   "outputs": [
    {
     "name": "stdout",
     "output_type": "stream",
     "text": [
      "outlier_share 0\n"
     ]
    }
   ],
   "source": [
    "params = create_params(outlier_share=0, outliers=0, topk=20, only_outliers=False)"
   ]
  },
  {
   "cell_type": "code",
   "execution_count": 21,
   "metadata": {},
   "outputs": [
    {
     "name": "stdout",
     "output_type": "stream",
     "text": [
      "Requirement already satisfied: ipywidgets in /home/anangin/.conda/envs/pytorch/lib/python3.10/site-packages (8.1.1)\n",
      "Requirement already satisfied: comm>=0.1.3 in /home/anangin/.conda/envs/pytorch/lib/python3.10/site-packages (from ipywidgets) (0.1.4)\n",
      "Requirement already satisfied: ipython>=6.1.0 in /home/anangin/.conda/envs/pytorch/lib/python3.10/site-packages (from ipywidgets) (8.15.0)\n",
      "Requirement already satisfied: traitlets>=4.3.1 in /home/anangin/.conda/envs/pytorch/lib/python3.10/site-packages (from ipywidgets) (5.7.1)\n",
      "Requirement already satisfied: widgetsnbextension~=4.0.9 in /home/anangin/.conda/envs/pytorch/lib/python3.10/site-packages (from ipywidgets) (4.0.9)\n",
      "Requirement already satisfied: jupyterlab-widgets~=3.0.9 in /home/anangin/.conda/envs/pytorch/lib/python3.10/site-packages (from ipywidgets) (3.0.9)\n",
      "Requirement already satisfied: backcall in /home/anangin/.conda/envs/pytorch/lib/python3.10/site-packages (from ipython>=6.1.0->ipywidgets) (0.2.0)\n",
      "Requirement already satisfied: decorator in /home/anangin/.conda/envs/pytorch/lib/python3.10/site-packages (from ipython>=6.1.0->ipywidgets) (5.1.1)\n",
      "Requirement already satisfied: jedi>=0.16 in /home/anangin/.conda/envs/pytorch/lib/python3.10/site-packages (from ipython>=6.1.0->ipywidgets) (0.18.1)\n",
      "Requirement already satisfied: matplotlib-inline in /home/anangin/.conda/envs/pytorch/lib/python3.10/site-packages (from ipython>=6.1.0->ipywidgets) (0.1.6)\n",
      "Requirement already satisfied: pickleshare in /home/anangin/.conda/envs/pytorch/lib/python3.10/site-packages (from ipython>=6.1.0->ipywidgets) (0.7.5)\n",
      "Requirement already satisfied: prompt-toolkit!=3.0.37,<3.1.0,>=3.0.30 in /home/anangin/.conda/envs/pytorch/lib/python3.10/site-packages (from ipython>=6.1.0->ipywidgets) (3.0.36)\n",
      "Requirement already satisfied: pygments>=2.4.0 in /home/anangin/.conda/envs/pytorch/lib/python3.10/site-packages (from ipython>=6.1.0->ipywidgets) (2.15.1)\n",
      "Requirement already satisfied: stack-data in /home/anangin/.conda/envs/pytorch/lib/python3.10/site-packages (from ipython>=6.1.0->ipywidgets) (0.2.0)\n",
      "Requirement already satisfied: exceptiongroup in /home/anangin/.conda/envs/pytorch/lib/python3.10/site-packages (from ipython>=6.1.0->ipywidgets) (1.0.4)\n",
      "Requirement already satisfied: pexpect>4.3 in /home/anangin/.conda/envs/pytorch/lib/python3.10/site-packages (from ipython>=6.1.0->ipywidgets) (4.8.0)\n",
      "Requirement already satisfied: parso<0.9.0,>=0.8.0 in /home/anangin/.conda/envs/pytorch/lib/python3.10/site-packages (from jedi>=0.16->ipython>=6.1.0->ipywidgets) (0.8.3)\n",
      "Requirement already satisfied: ptyprocess>=0.5 in /home/anangin/.conda/envs/pytorch/lib/python3.10/site-packages (from pexpect>4.3->ipython>=6.1.0->ipywidgets) (0.7.0)\n",
      "Requirement already satisfied: wcwidth in /home/anangin/.conda/envs/pytorch/lib/python3.10/site-packages (from prompt-toolkit!=3.0.37,<3.1.0,>=3.0.30->ipython>=6.1.0->ipywidgets) (0.2.5)\n",
      "Requirement already satisfied: executing in /home/anangin/.conda/envs/pytorch/lib/python3.10/site-packages (from stack-data->ipython>=6.1.0->ipywidgets) (0.8.3)\n",
      "Requirement already satisfied: asttokens in /home/anangin/.conda/envs/pytorch/lib/python3.10/site-packages (from stack-data->ipython>=6.1.0->ipywidgets) (2.0.5)\n",
      "Requirement already satisfied: pure-eval in /home/anangin/.conda/envs/pytorch/lib/python3.10/site-packages (from stack-data->ipython>=6.1.0->ipywidgets) (0.2.2)\n",
      "Requirement already satisfied: six in /home/anangin/.conda/envs/pytorch/lib/python3.10/site-packages (from asttokens->stack-data->ipython>=6.1.0->ipywidgets) (1.16.0)\n",
      "\u001b[33mWARNING: There was an error checking the latest version of pip.\u001b[0m\u001b[33m\n",
      "\u001b[0mNote: you may need to restart the kernel to use updated packages.\n"
     ]
    }
   ],
   "source": [
    "pip install ipywidgets"
   ]
  },
  {
   "cell_type": "code",
   "execution_count": 22,
   "metadata": {},
   "outputs": [
    {
     "name": "stdout",
     "output_type": "stream",
     "text": [
      "dataset_info {'path': '_data/ltrc_yahoo/top10.set1.binarized_purged_querynorm_filtered.binrel.pkl', 'type': 'pickle'}\n",
      "in load_dataset 3123 3123 319\n",
      "num features : 699\n",
      "num docs (train, valid, test) : (3123,5000,5000)\n",
      "num queries (train, valid, test) : (319,5000,5000)\n",
      "3123 3123 319 5000\n",
      "[   0   10   15   23   33   43   53   58   68   78   86   95  105  115\n",
      "  125  135  145  154  164  174  184  194  204  214  224  234  244  254\n",
      "  264  274  284  294  304  314  324  334  344  354  364  374  384  394\n",
      "  404  414  424  434  444  454  464  474  484  494  504  514  524  534\n",
      "  544  554  564  574  584  594  604  614  623  633  641  651  661  671\n",
      "  681  691  701  711  721  730  740  750  757  766  776  786  796  806\n",
      "  814  824  834  844  854  864  874  884  894  904  914  924  934  944\n",
      "  954  964  974  984  994 1004 1014 1024 1034 1044 1054 1064 1074 1084\n",
      " 1093 1103 1113 1123 1131 1141 1151 1161 1171 1181 1191 1201 1211 1221\n",
      " 1231 1241 1251 1261 1271 1281 1291 1301 1311 1321 1331 1341 1350 1360\n",
      " 1369 1379 1389 1399 1409 1419 1429 1439 1449 1459 1469 1479 1489 1499\n",
      " 1509 1519 1529 1539 1549 1559 1569 1579 1589 1599 1608 1618 1628 1638\n",
      " 1648 1657 1667 1677 1687 1697 1707 1717 1727 1736 1746 1756 1766 1776\n",
      " 1786 1796 1806 1816 1826 1832 1842 1852 1862 1872 1882 1892 1902 1912\n",
      " 1922 1932 1942 1952 1962 1972 1982 1992 2002 2012 2022 2028 2038 2048\n",
      " 2058 2068 2078 2088 2098 2108 2118 2128 2138 2148 2158 2168 2178 2188\n",
      " 2198 2208 2218 2228 2238 2248 2258 2268 2277 2286 2296 2306 2316 2326\n",
      " 2336 2346 2356 2366 2376 2386 2396 2406 2416 2426 2436 2446 2456 2466\n",
      " 2476 2486 2496 2506 2516 2526 2536 2546 2556 2566 2576 2586 2596 2606\n",
      " 2616 2626 2636 2646 2656 2666 2676 2686 2696 2705 2715 2725 2735 2745\n",
      " 2755 2765 2775 2785 2794 2802 2811 2821 2831 2841 2851 2861 2871 2881\n",
      " 2891 2901 2909 2917 2927 2937 2947 2955 2965 2975 2985 2995 3005 3015\n",
      " 3024 3034 3044 3054 3064 3074 3084 3094 3103 3113 3123]\n",
      "len(ds.trid) 5000\n"
     ]
    },
    {
     "data": {
      "application/vnd.jupyter.widget-view+json": {
       "model_id": "",
       "version_major": 2,
       "version_minor": 0
      },
      "text/plain": [
       "  0%|          | 0/318 [00:00<?, ?it/s]"
      ]
     },
     "metadata": {},
     "output_type": "display_data"
    },
    {
     "name": "stdout",
     "output_type": "stream",
     "text": [
      "yahoo -> 52135 clicks\n"
     ]
    }
   ],
   "source": [
    "clicks_path = {'yahoo': '_data/ltrc_yahoo/top20.clicks',\n",
    "              #'mslr': '_data/MSLR-WEB30k/Fold1/top20.clicks'\n",
    "              }\n",
    "\n",
    "for dataset_name in ['yahoo']:\n",
    "    \n",
    "    ds = load_dataset(dataset_name, 'datasets_info.json', 400)\n",
    "    print(len(ds.trlv),len(ds.trfm),len(ds.trdlr),len(ds.trid))\n",
    "    print(ds.trdlr)\n",
    "    params_real_world = f'simple'\n",
    "    click_cnt = generate_clicks_pbm(params = params, outliers_max_pos = 0, topk = 20, \n",
    "                                    ds = ds, sessions_cnt = 400, \n",
    "                                    save_path = f'{clicks_path[dataset_name]}_{params_real_world}.pkl', \n",
    "                                    outliers_path = f'{clicks_path[dataset_name]}_{params_real_world}.pkl'.replace('clicks', 'outlierness')\n",
    "                                   )\n",
    "    print(dataset_name, '->', click_cnt, 'clicks')"
   ]
  },
  {
   "cell_type": "markdown",
   "metadata": {},
   "source": [
    "#### OPBM"
   ]
  },
  {
   "cell_type": "code",
   "execution_count": 23,
   "metadata": {},
   "outputs": [
    {
     "name": "stdout",
     "output_type": "stream",
     "text": [
      "dataset_info {'path': '_data/ltrc_yahoo/top10.set1.binarized_purged_querynorm_filtered.binrel.pkl', 'type': 'pickle'}\n",
      "in load_dataset 3123 3123 319\n",
      "num features : 699\n",
      "num docs (train, valid, test) : (3123,5000,5000)\n",
      "num queries (train, valid, test) : (319,5000,5000)\n",
      "outlier_share 0.25\n",
      "big, small, position, alpha [1.         0.5        0.33333333 0.25       0.2        0.16666667\n",
      " 0.14285714 0.125      0.11111111 0.1       ] [0.3  1.   0.3  0.05] 0 0.25\n",
      "big, small, position, alpha [1.         0.5        0.33333333 0.25       0.2        0.16666667\n",
      " 0.14285714 0.125      0.11111111 0.1       ] [0.3  1.   0.3  0.05] 1 0.25\n",
      "big, small, position, alpha [1.         0.5        0.33333333 0.25       0.2        0.16666667\n",
      " 0.14285714 0.125      0.11111111 0.1       ] [0.3  1.   0.3  0.05] 2 0.25\n",
      "big, small, position, alpha [1.         0.5        0.33333333 0.25       0.2        0.16666667\n",
      " 0.14285714 0.125      0.11111111 0.1       ] [0.3  1.   0.3  0.05] 3 0.25\n",
      "big, small, position, alpha [1.         0.5        0.33333333 0.25       0.2        0.16666667\n",
      " 0.14285714 0.125      0.11111111 0.1       ] [0.3  1.   0.3  0.05] 4 0.25\n",
      "big, small, position, alpha [1.         0.5        0.33333333 0.25       0.2        0.16666667\n",
      " 0.14285714 0.125      0.11111111 0.1       ] [0.3  1.   0.3  0.05] 5 0.25\n",
      "big, small, position, alpha [1.         0.5        0.33333333 0.25       0.2        0.16666667\n",
      " 0.14285714 0.125      0.11111111 0.1       ] [0.3  1.   0.3  0.05] 6 0.25\n",
      "big, small, position, alpha [1.         0.5        0.33333333 0.25       0.2        0.16666667\n",
      " 0.14285714 0.125      0.11111111 0.1       ] [0.3  1.   0.3  0.05] 7 0.25\n",
      "big, small, position, alpha [1.         0.5        0.33333333 0.25       0.2        0.16666667\n",
      " 0.14285714 0.125      0.11111111 0.1       ] [0.3  1.   0.3  0.05] 8 0.25\n",
      "len(ds.trid) 5000\n"
     ]
    },
    {
     "data": {
      "application/vnd.jupyter.widget-view+json": {
       "model_id": "",
       "version_major": 2,
       "version_minor": 0
      },
      "text/plain": [
       "  0%|          | 0/318 [00:00<?, ?it/s]"
      ]
     },
     "metadata": {},
     "output_type": "display_data"
    },
    {
     "name": "stdout",
     "output_type": "stream",
     "text": [
      "yahoo 0.25 -> 46201 clicks\n",
      "\n",
      "outlier_share 0.4\n",
      "big, small, position, alpha [1.         0.5        0.33333333 0.25       0.2        0.16666667\n",
      " 0.14285714 0.125      0.11111111 0.1       ] [0.3  1.   0.3  0.05] 0 0.4\n",
      "big, small, position, alpha [1.         0.5        0.33333333 0.25       0.2        0.16666667\n",
      " 0.14285714 0.125      0.11111111 0.1       ] [0.3  1.   0.3  0.05] 1 0.4\n",
      "big, small, position, alpha [1.         0.5        0.33333333 0.25       0.2        0.16666667\n",
      " 0.14285714 0.125      0.11111111 0.1       ] [0.3  1.   0.3  0.05] 2 0.4\n",
      "big, small, position, alpha [1.         0.5        0.33333333 0.25       0.2        0.16666667\n",
      " 0.14285714 0.125      0.11111111 0.1       ] [0.3  1.   0.3  0.05] 3 0.4\n",
      "big, small, position, alpha [1.         0.5        0.33333333 0.25       0.2        0.16666667\n",
      " 0.14285714 0.125      0.11111111 0.1       ] [0.3  1.   0.3  0.05] 4 0.4\n",
      "big, small, position, alpha [1.         0.5        0.33333333 0.25       0.2        0.16666667\n",
      " 0.14285714 0.125      0.11111111 0.1       ] [0.3  1.   0.3  0.05] 5 0.4\n",
      "big, small, position, alpha [1.         0.5        0.33333333 0.25       0.2        0.16666667\n",
      " 0.14285714 0.125      0.11111111 0.1       ] [0.3  1.   0.3  0.05] 6 0.4\n",
      "big, small, position, alpha [1.         0.5        0.33333333 0.25       0.2        0.16666667\n",
      " 0.14285714 0.125      0.11111111 0.1       ] [0.3  1.   0.3  0.05] 7 0.4\n",
      "big, small, position, alpha [1.         0.5        0.33333333 0.25       0.2        0.16666667\n",
      " 0.14285714 0.125      0.11111111 0.1       ] [0.3  1.   0.3  0.05] 8 0.4\n",
      "len(ds.trid) 5000\n"
     ]
    },
    {
     "data": {
      "application/vnd.jupyter.widget-view+json": {
       "model_id": "",
       "version_major": 2,
       "version_minor": 0
      },
      "text/plain": [
       "  0%|          | 0/318 [00:00<?, ?it/s]"
      ]
     },
     "metadata": {},
     "output_type": "display_data"
    },
    {
     "name": "stdout",
     "output_type": "stream",
     "text": [
      "yahoo 0.4 -> 43308 clicks\n",
      "\n",
      "outlier_share 0.5\n",
      "big, small, position, alpha [1.         0.5        0.33333333 0.25       0.2        0.16666667\n",
      " 0.14285714 0.125      0.11111111 0.1       ] [0.3  1.   0.3  0.05] 0 0.5\n",
      "big, small, position, alpha [1.         0.5        0.33333333 0.25       0.2        0.16666667\n",
      " 0.14285714 0.125      0.11111111 0.1       ] [0.3  1.   0.3  0.05] 1 0.5\n",
      "big, small, position, alpha [1.         0.5        0.33333333 0.25       0.2        0.16666667\n",
      " 0.14285714 0.125      0.11111111 0.1       ] [0.3  1.   0.3  0.05] 2 0.5\n",
      "big, small, position, alpha [1.         0.5        0.33333333 0.25       0.2        0.16666667\n",
      " 0.14285714 0.125      0.11111111 0.1       ] [0.3  1.   0.3  0.05] 3 0.5\n",
      "big, small, position, alpha [1.         0.5        0.33333333 0.25       0.2        0.16666667\n",
      " 0.14285714 0.125      0.11111111 0.1       ] [0.3  1.   0.3  0.05] 4 0.5\n",
      "big, small, position, alpha [1.         0.5        0.33333333 0.25       0.2        0.16666667\n",
      " 0.14285714 0.125      0.11111111 0.1       ] [0.3  1.   0.3  0.05] 5 0.5\n",
      "big, small, position, alpha [1.         0.5        0.33333333 0.25       0.2        0.16666667\n",
      " 0.14285714 0.125      0.11111111 0.1       ] [0.3  1.   0.3  0.05] 6 0.5\n",
      "big, small, position, alpha [1.         0.5        0.33333333 0.25       0.2        0.16666667\n",
      " 0.14285714 0.125      0.11111111 0.1       ] [0.3  1.   0.3  0.05] 7 0.5\n",
      "big, small, position, alpha [1.         0.5        0.33333333 0.25       0.2        0.16666667\n",
      " 0.14285714 0.125      0.11111111 0.1       ] [0.3  1.   0.3  0.05] 8 0.5\n",
      "len(ds.trid) 5000\n"
     ]
    },
    {
     "data": {
      "application/vnd.jupyter.widget-view+json": {
       "model_id": "",
       "version_major": 2,
       "version_minor": 0
      },
      "text/plain": [
       "  0%|          | 0/318 [00:00<?, ?it/s]"
      ]
     },
     "metadata": {},
     "output_type": "display_data"
    },
    {
     "name": "stdout",
     "output_type": "stream",
     "text": [
      "yahoo 0.5 -> 40444 clicks\n",
      "\n",
      "outlier_share 0.6\n",
      "big, small, position, alpha [1.         0.5        0.33333333 0.25       0.2        0.16666667\n",
      " 0.14285714 0.125      0.11111111 0.1       ] [0.3  1.   0.3  0.05] 0 0.6\n",
      "big, small, position, alpha [1.         0.5        0.33333333 0.25       0.2        0.16666667\n",
      " 0.14285714 0.125      0.11111111 0.1       ] [0.3  1.   0.3  0.05] 1 0.6\n",
      "big, small, position, alpha [1.         0.5        0.33333333 0.25       0.2        0.16666667\n",
      " 0.14285714 0.125      0.11111111 0.1       ] [0.3  1.   0.3  0.05] 2 0.6\n",
      "big, small, position, alpha [1.         0.5        0.33333333 0.25       0.2        0.16666667\n",
      " 0.14285714 0.125      0.11111111 0.1       ] [0.3  1.   0.3  0.05] 3 0.6\n",
      "big, small, position, alpha [1.         0.5        0.33333333 0.25       0.2        0.16666667\n",
      " 0.14285714 0.125      0.11111111 0.1       ] [0.3  1.   0.3  0.05] 4 0.6\n",
      "big, small, position, alpha [1.         0.5        0.33333333 0.25       0.2        0.16666667\n",
      " 0.14285714 0.125      0.11111111 0.1       ] [0.3  1.   0.3  0.05] 5 0.6\n",
      "big, small, position, alpha [1.         0.5        0.33333333 0.25       0.2        0.16666667\n",
      " 0.14285714 0.125      0.11111111 0.1       ] [0.3  1.   0.3  0.05] 6 0.6\n",
      "big, small, position, alpha [1.         0.5        0.33333333 0.25       0.2        0.16666667\n",
      " 0.14285714 0.125      0.11111111 0.1       ] [0.3  1.   0.3  0.05] 7 0.6\n",
      "big, small, position, alpha [1.         0.5        0.33333333 0.25       0.2        0.16666667\n",
      " 0.14285714 0.125      0.11111111 0.1       ] [0.3  1.   0.3  0.05] 8 0.6\n",
      "len(ds.trid) 5000\n"
     ]
    },
    {
     "data": {
      "application/vnd.jupyter.widget-view+json": {
       "model_id": "",
       "version_major": 2,
       "version_minor": 0
      },
      "text/plain": [
       "  0%|          | 0/318 [00:00<?, ?it/s]"
      ]
     },
     "metadata": {},
     "output_type": "display_data"
    },
    {
     "name": "stdout",
     "output_type": "stream",
     "text": [
      "yahoo 0.6 -> 36822 clicks\n",
      "\n",
      "outlier_share 0.7\n",
      "big, small, position, alpha [1.         0.5        0.33333333 0.25       0.2        0.16666667\n",
      " 0.14285714 0.125      0.11111111 0.1       ] [0.3  1.   0.3  0.05] 0 0.7\n",
      "big, small, position, alpha [1.         0.5        0.33333333 0.25       0.2        0.16666667\n",
      " 0.14285714 0.125      0.11111111 0.1       ] [0.3  1.   0.3  0.05] 1 0.7\n",
      "big, small, position, alpha [1.         0.5        0.33333333 0.25       0.2        0.16666667\n",
      " 0.14285714 0.125      0.11111111 0.1       ] [0.3  1.   0.3  0.05] 2 0.7\n",
      "big, small, position, alpha [1.         0.5        0.33333333 0.25       0.2        0.16666667\n",
      " 0.14285714 0.125      0.11111111 0.1       ] [0.3  1.   0.3  0.05] 3 0.7\n",
      "big, small, position, alpha [1.         0.5        0.33333333 0.25       0.2        0.16666667\n",
      " 0.14285714 0.125      0.11111111 0.1       ] [0.3  1.   0.3  0.05] 4 0.7\n",
      "big, small, position, alpha [1.         0.5        0.33333333 0.25       0.2        0.16666667\n",
      " 0.14285714 0.125      0.11111111 0.1       ] [0.3  1.   0.3  0.05] 5 0.7\n",
      "big, small, position, alpha [1.         0.5        0.33333333 0.25       0.2        0.16666667\n",
      " 0.14285714 0.125      0.11111111 0.1       ] [0.3  1.   0.3  0.05] 6 0.7\n",
      "big, small, position, alpha [1.         0.5        0.33333333 0.25       0.2        0.16666667\n",
      " 0.14285714 0.125      0.11111111 0.1       ] [0.3  1.   0.3  0.05] 7 0.7\n",
      "big, small, position, alpha [1.         0.5        0.33333333 0.25       0.2        0.16666667\n",
      " 0.14285714 0.125      0.11111111 0.1       ] [0.3  1.   0.3  0.05] 8 0.7\n",
      "len(ds.trid) 5000\n"
     ]
    },
    {
     "data": {
      "application/vnd.jupyter.widget-view+json": {
       "model_id": "",
       "version_major": 2,
       "version_minor": 0
      },
      "text/plain": [
       "  0%|          | 0/318 [00:00<?, ?it/s]"
      ]
     },
     "metadata": {},
     "output_type": "display_data"
    },
    {
     "name": "stdout",
     "output_type": "stream",
     "text": [
      "yahoo 0.7 -> 36295 clicks\n",
      "\n",
      "outlier_share 0.75\n",
      "big, small, position, alpha [1.         0.5        0.33333333 0.25       0.2        0.16666667\n",
      " 0.14285714 0.125      0.11111111 0.1       ] [0.3  1.   0.3  0.05] 0 0.75\n",
      "big, small, position, alpha [1.         0.5        0.33333333 0.25       0.2        0.16666667\n",
      " 0.14285714 0.125      0.11111111 0.1       ] [0.3  1.   0.3  0.05] 1 0.75\n",
      "big, small, position, alpha [1.         0.5        0.33333333 0.25       0.2        0.16666667\n",
      " 0.14285714 0.125      0.11111111 0.1       ] [0.3  1.   0.3  0.05] 2 0.75\n",
      "big, small, position, alpha [1.         0.5        0.33333333 0.25       0.2        0.16666667\n",
      " 0.14285714 0.125      0.11111111 0.1       ] [0.3  1.   0.3  0.05] 3 0.75\n",
      "big, small, position, alpha [1.         0.5        0.33333333 0.25       0.2        0.16666667\n",
      " 0.14285714 0.125      0.11111111 0.1       ] [0.3  1.   0.3  0.05] 4 0.75\n",
      "big, small, position, alpha [1.         0.5        0.33333333 0.25       0.2        0.16666667\n",
      " 0.14285714 0.125      0.11111111 0.1       ] [0.3  1.   0.3  0.05] 5 0.75\n",
      "big, small, position, alpha [1.         0.5        0.33333333 0.25       0.2        0.16666667\n",
      " 0.14285714 0.125      0.11111111 0.1       ] [0.3  1.   0.3  0.05] 6 0.75\n",
      "big, small, position, alpha [1.         0.5        0.33333333 0.25       0.2        0.16666667\n",
      " 0.14285714 0.125      0.11111111 0.1       ] [0.3  1.   0.3  0.05] 7 0.75\n",
      "big, small, position, alpha [1.         0.5        0.33333333 0.25       0.2        0.16666667\n",
      " 0.14285714 0.125      0.11111111 0.1       ] [0.3  1.   0.3  0.05] 8 0.75\n",
      "len(ds.trid) 5000\n"
     ]
    },
    {
     "data": {
      "application/vnd.jupyter.widget-view+json": {
       "model_id": "",
       "version_major": 2,
       "version_minor": 0
      },
      "text/plain": [
       "  0%|          | 0/318 [00:00<?, ?it/s]"
      ]
     },
     "metadata": {},
     "output_type": "display_data"
    },
    {
     "name": "stdout",
     "output_type": "stream",
     "text": [
      "yahoo 0.75 -> 35225 clicks\n",
      "\n",
      "outlier_share 0.8\n",
      "big, small, position, alpha [1.         0.5        0.33333333 0.25       0.2        0.16666667\n",
      " 0.14285714 0.125      0.11111111 0.1       ] [0.3  1.   0.3  0.05] 0 0.8\n",
      "big, small, position, alpha [1.         0.5        0.33333333 0.25       0.2        0.16666667\n",
      " 0.14285714 0.125      0.11111111 0.1       ] [0.3  1.   0.3  0.05] 1 0.8\n",
      "big, small, position, alpha [1.         0.5        0.33333333 0.25       0.2        0.16666667\n",
      " 0.14285714 0.125      0.11111111 0.1       ] [0.3  1.   0.3  0.05] 2 0.8\n",
      "big, small, position, alpha [1.         0.5        0.33333333 0.25       0.2        0.16666667\n",
      " 0.14285714 0.125      0.11111111 0.1       ] [0.3  1.   0.3  0.05] 3 0.8\n",
      "big, small, position, alpha [1.         0.5        0.33333333 0.25       0.2        0.16666667\n",
      " 0.14285714 0.125      0.11111111 0.1       ] [0.3  1.   0.3  0.05] 4 0.8\n",
      "big, small, position, alpha [1.         0.5        0.33333333 0.25       0.2        0.16666667\n",
      " 0.14285714 0.125      0.11111111 0.1       ] [0.3  1.   0.3  0.05] 5 0.8\n",
      "big, small, position, alpha [1.         0.5        0.33333333 0.25       0.2        0.16666667\n",
      " 0.14285714 0.125      0.11111111 0.1       ] [0.3  1.   0.3  0.05] 6 0.8\n",
      "big, small, position, alpha [1.         0.5        0.33333333 0.25       0.2        0.16666667\n",
      " 0.14285714 0.125      0.11111111 0.1       ] [0.3  1.   0.3  0.05] 7 0.8\n",
      "big, small, position, alpha [1.         0.5        0.33333333 0.25       0.2        0.16666667\n",
      " 0.14285714 0.125      0.11111111 0.1       ] [0.3  1.   0.3  0.05] 8 0.8\n",
      "len(ds.trid) 5000\n"
     ]
    },
    {
     "data": {
      "application/vnd.jupyter.widget-view+json": {
       "model_id": "",
       "version_major": 2,
       "version_minor": 0
      },
      "text/plain": [
       "  0%|          | 0/318 [00:00<?, ?it/s]"
      ]
     },
     "metadata": {},
     "output_type": "display_data"
    },
    {
     "name": "stdout",
     "output_type": "stream",
     "text": [
      "yahoo 0.8 -> 35920 clicks\n",
      "\n",
      "outlier_share 0.85\n",
      "big, small, position, alpha [1.         0.5        0.33333333 0.25       0.2        0.16666667\n",
      " 0.14285714 0.125      0.11111111 0.1       ] [0.3  1.   0.3  0.05] 0 0.85\n",
      "big, small, position, alpha [1.         0.5        0.33333333 0.25       0.2        0.16666667\n",
      " 0.14285714 0.125      0.11111111 0.1       ] [0.3  1.   0.3  0.05] 1 0.85\n",
      "big, small, position, alpha [1.         0.5        0.33333333 0.25       0.2        0.16666667\n",
      " 0.14285714 0.125      0.11111111 0.1       ] [0.3  1.   0.3  0.05] 2 0.85\n",
      "big, small, position, alpha [1.         0.5        0.33333333 0.25       0.2        0.16666667\n",
      " 0.14285714 0.125      0.11111111 0.1       ] [0.3  1.   0.3  0.05] 3 0.85\n",
      "big, small, position, alpha [1.         0.5        0.33333333 0.25       0.2        0.16666667\n",
      " 0.14285714 0.125      0.11111111 0.1       ] [0.3  1.   0.3  0.05] 4 0.85\n",
      "big, small, position, alpha [1.         0.5        0.33333333 0.25       0.2        0.16666667\n",
      " 0.14285714 0.125      0.11111111 0.1       ] [0.3  1.   0.3  0.05] 5 0.85\n",
      "big, small, position, alpha [1.         0.5        0.33333333 0.25       0.2        0.16666667\n",
      " 0.14285714 0.125      0.11111111 0.1       ] [0.3  1.   0.3  0.05] 6 0.85\n",
      "big, small, position, alpha [1.         0.5        0.33333333 0.25       0.2        0.16666667\n",
      " 0.14285714 0.125      0.11111111 0.1       ] [0.3  1.   0.3  0.05] 7 0.85\n",
      "big, small, position, alpha [1.         0.5        0.33333333 0.25       0.2        0.16666667\n",
      " 0.14285714 0.125      0.11111111 0.1       ] [0.3  1.   0.3  0.05] 8 0.85\n",
      "len(ds.trid) 5000\n"
     ]
    },
    {
     "data": {
      "application/vnd.jupyter.widget-view+json": {
       "model_id": "",
       "version_major": 2,
       "version_minor": 0
      },
      "text/plain": [
       "  0%|          | 0/318 [00:00<?, ?it/s]"
      ]
     },
     "metadata": {},
     "output_type": "display_data"
    },
    {
     "name": "stdout",
     "output_type": "stream",
     "text": [
      "yahoo 0.85 -> 31182 clicks\n",
      "\n",
      "outlier_share 0.9\n",
      "big, small, position, alpha [1.         0.5        0.33333333 0.25       0.2        0.16666667\n",
      " 0.14285714 0.125      0.11111111 0.1       ] [0.3  1.   0.3  0.05] 0 0.9\n",
      "big, small, position, alpha [1.         0.5        0.33333333 0.25       0.2        0.16666667\n",
      " 0.14285714 0.125      0.11111111 0.1       ] [0.3  1.   0.3  0.05] 1 0.9\n",
      "big, small, position, alpha [1.         0.5        0.33333333 0.25       0.2        0.16666667\n",
      " 0.14285714 0.125      0.11111111 0.1       ] [0.3  1.   0.3  0.05] 2 0.9\n",
      "big, small, position, alpha [1.         0.5        0.33333333 0.25       0.2        0.16666667\n",
      " 0.14285714 0.125      0.11111111 0.1       ] [0.3  1.   0.3  0.05] 3 0.9\n",
      "big, small, position, alpha [1.         0.5        0.33333333 0.25       0.2        0.16666667\n",
      " 0.14285714 0.125      0.11111111 0.1       ] [0.3  1.   0.3  0.05] 4 0.9\n",
      "big, small, position, alpha [1.         0.5        0.33333333 0.25       0.2        0.16666667\n",
      " 0.14285714 0.125      0.11111111 0.1       ] [0.3  1.   0.3  0.05] 5 0.9\n",
      "big, small, position, alpha [1.         0.5        0.33333333 0.25       0.2        0.16666667\n",
      " 0.14285714 0.125      0.11111111 0.1       ] [0.3  1.   0.3  0.05] 6 0.9\n",
      "big, small, position, alpha [1.         0.5        0.33333333 0.25       0.2        0.16666667\n",
      " 0.14285714 0.125      0.11111111 0.1       ] [0.3  1.   0.3  0.05] 7 0.9\n",
      "big, small, position, alpha [1.         0.5        0.33333333 0.25       0.2        0.16666667\n",
      " 0.14285714 0.125      0.11111111 0.1       ] [0.3  1.   0.3  0.05] 8 0.9\n",
      "len(ds.trid) 5000\n"
     ]
    },
    {
     "data": {
      "application/vnd.jupyter.widget-view+json": {
       "model_id": "",
       "version_major": 2,
       "version_minor": 0
      },
      "text/plain": [
       "  0%|          | 0/318 [00:00<?, ?it/s]"
      ]
     },
     "metadata": {},
     "output_type": "display_data"
    },
    {
     "name": "stdout",
     "output_type": "stream",
     "text": [
      "yahoo 0.9 -> 31907 clicks\n",
      "\n"
     ]
    }
   ],
   "source": [
    "clicks_path = {'yahoo': '_data/ltrc_yahoo/top10.clicks',\n",
    "              #'mslr': '_data/MSLR-WEB30k/Fold1/top10.clicks'\n",
    "              }\n",
    "\n",
    "for dataset_name in ['yahoo']:\n",
    "    ds = load_dataset(dataset_name, 'datasets_info.json', 400)\n",
    "    for outlier_share in [0.25,0.4,0.5, 0.6, 0.7, 0.75, 0.8, 0.85, 0.9]:\n",
    "        params = create_params(outlier_share=outlier_share, outliers=9, topk=10, only_outliers=True)\n",
    "        params_real_world = f'opbm_{outlier_share:.02f}'\n",
    "\n",
    "        click_cnt = generate_clicks_pbm(params = params, outliers_max_pos = 9, topk = 10, \n",
    "                                        ds = ds, sessions_cnt = 400, \n",
    "                                        save_path = f'{clicks_path[dataset_name]}_{params_real_world}.pkl', \n",
    "                                        outliers_path = f'{clicks_path[dataset_name]}_{params_real_world}.pkl'.replace('clicks', 'outlierness')\n",
    "                                       )\n",
    "        print(dataset_name, outlier_share, '->', click_cnt, 'clicks')\n",
    "        print()"
   ]
  },
  {
   "cell_type": "code",
   "execution_count": 24,
   "metadata": {},
   "outputs": [
    {
     "name": "stdout",
     "output_type": "stream",
     "text": [
      "outlier_share 0.75\n",
      "big, small, position, alpha [1.         0.5        0.33333333 0.25       0.2        0.16666667\n",
      " 0.14285714 0.125      0.11111111 0.1       ] [0.3  1.   0.3  0.05] 0 0.75\n",
      "big, small, position, alpha [1.         0.5        0.33333333 0.25       0.2        0.16666667\n",
      " 0.14285714 0.125      0.11111111 0.1       ] [0.3  1.   0.3  0.05] 1 0.75\n",
      "big, small, position, alpha [1.         0.5        0.33333333 0.25       0.2        0.16666667\n",
      " 0.14285714 0.125      0.11111111 0.1       ] [0.3  1.   0.3  0.05] 2 0.75\n",
      "big, small, position, alpha [1.         0.5        0.33333333 0.25       0.2        0.16666667\n",
      " 0.14285714 0.125      0.11111111 0.1       ] [0.3  1.   0.3  0.05] 3 0.75\n",
      "big, small, position, alpha [1.         0.5        0.33333333 0.25       0.2        0.16666667\n",
      " 0.14285714 0.125      0.11111111 0.1       ] [0.3  1.   0.3  0.05] 4 0.75\n",
      "big, small, position, alpha [1.         0.5        0.33333333 0.25       0.2        0.16666667\n",
      " 0.14285714 0.125      0.11111111 0.1       ] [0.3  1.   0.3  0.05] 5 0.75\n",
      "big, small, position, alpha [1.         0.5        0.33333333 0.25       0.2        0.16666667\n",
      " 0.14285714 0.125      0.11111111 0.1       ] [0.3  1.   0.3  0.05] 6 0.75\n",
      "big, small, position, alpha [1.         0.5        0.33333333 0.25       0.2        0.16666667\n",
      " 0.14285714 0.125      0.11111111 0.1       ] [0.3  1.   0.3  0.05] 7 0.75\n",
      "big, small, position, alpha [1.         0.5        0.33333333 0.25       0.2        0.16666667\n",
      " 0.14285714 0.125      0.11111111 0.1       ] [0.3  1.   0.3  0.05] 8 0.75\n"
     ]
    },
    {
     "data": {
      "text/plain": [
       "{'0.0': {'propensity': [0.475,\n",
       "   0.1625,\n",
       "   0.08333333333333333,\n",
       "   0.0625,\n",
       "   0.05,\n",
       "   0.041666666666666664,\n",
       "   0.03571428571428571,\n",
       "   0.03125,\n",
       "   0.027777777777777776,\n",
       "   0.025],\n",
       "  'epsilon_p': [0.995,\n",
       "   0.9924999999999999,\n",
       "   0.96,\n",
       "   0.95,\n",
       "   0.94,\n",
       "   0.9299999999999999,\n",
       "   0.9199999999999999,\n",
       "   0.9099999999999999,\n",
       "   0.9,\n",
       "   0.89],\n",
       "  'epsilon_n': [0.05, 0.05, 0.05, 0.05, 0.05, 0.05, 0.05, 0.05, 0.05, 0.05],\n",
       "  'count': 50},\n",
       " '1.0': {'propensity': [1.0,\n",
       "   0.35,\n",
       "   0.12083333333333333,\n",
       "   0.0625,\n",
       "   0.05,\n",
       "   0.041666666666666664,\n",
       "   0.03571428571428571,\n",
       "   0.03125,\n",
       "   0.027777777777777776,\n",
       "   0.025],\n",
       "  'epsilon_p': [0.99875,\n",
       "   0.9981249999999999,\n",
       "   0.99,\n",
       "   0.95,\n",
       "   0.94,\n",
       "   0.9299999999999999,\n",
       "   0.9199999999999999,\n",
       "   0.9099999999999999,\n",
       "   0.9,\n",
       "   0.89],\n",
       "  'epsilon_n': [0.05, 0.05, 0.05, 0.05, 0.05, 0.05, 0.05, 0.05, 0.05, 0.05],\n",
       "  'count': 50},\n",
       " '2.0': {'propensity': [0.475,\n",
       "   0.875,\n",
       "   0.3083333333333333,\n",
       "   0.1,\n",
       "   0.05,\n",
       "   0.041666666666666664,\n",
       "   0.03571428571428571,\n",
       "   0.03125,\n",
       "   0.027777777777777776,\n",
       "   0.025],\n",
       "  'epsilon_p': [0.9996875000000001,\n",
       "   0.99953125,\n",
       "   0.9975,\n",
       "   0.9875,\n",
       "   0.94,\n",
       "   0.9299999999999999,\n",
       "   0.9199999999999999,\n",
       "   0.9099999999999999,\n",
       "   0.9,\n",
       "   0.89],\n",
       "  'epsilon_n': [0.05, 0.05, 0.05, 0.05, 0.05, 0.05, 0.05, 0.05, 0.05, 0.05],\n",
       "  'count': 50},\n",
       " '3.0': {'propensity': [0.25,\n",
       "   0.35,\n",
       "   0.8333333333333334,\n",
       "   0.2875,\n",
       "   0.08750000000000001,\n",
       "   0.041666666666666664,\n",
       "   0.03571428571428571,\n",
       "   0.03125,\n",
       "   0.027777777777777776,\n",
       "   0.025],\n",
       "  'epsilon_p': [0.9996875000000001,\n",
       "   0.9998828125,\n",
       "   0.999375,\n",
       "   0.996875,\n",
       "   0.985,\n",
       "   0.9299999999999999,\n",
       "   0.9199999999999999,\n",
       "   0.9099999999999999,\n",
       "   0.9,\n",
       "   0.89],\n",
       "  'epsilon_n': [0.05, 0.05, 0.05, 0.05, 0.05, 0.05, 0.05, 0.05, 0.05, 0.05],\n",
       "  'count': 50},\n",
       " '4.0': {'propensity': [0.25,\n",
       "   0.125,\n",
       "   0.3083333333333333,\n",
       "   0.8125,\n",
       "   0.27499999999999997,\n",
       "   0.07916666666666666,\n",
       "   0.03571428571428571,\n",
       "   0.03125,\n",
       "   0.027777777777777776,\n",
       "   0.025],\n",
       "  'epsilon_p': [0.9996875000000001,\n",
       "   0.9998828125,\n",
       "   0.99984375,\n",
       "   0.99921875,\n",
       "   0.99625,\n",
       "   0.9824999999999999,\n",
       "   0.9199999999999999,\n",
       "   0.9099999999999999,\n",
       "   0.9,\n",
       "   0.89],\n",
       "  'epsilon_n': [0.05, 0.05, 0.05, 0.05, 0.05, 0.05, 0.05, 0.05, 0.05, 0.05],\n",
       "  'count': 50},\n",
       " '5.0': {'propensity': [0.25,\n",
       "   0.125,\n",
       "   0.08333333333333333,\n",
       "   0.2875,\n",
       "   0.8,\n",
       "   0.26666666666666666,\n",
       "   0.07321428571428572,\n",
       "   0.03125,\n",
       "   0.027777777777777776,\n",
       "   0.025],\n",
       "  'epsilon_p': [0.9996875000000001,\n",
       "   0.9998828125,\n",
       "   0.99984375,\n",
       "   0.9998046875,\n",
       "   0.9990625,\n",
       "   0.995625,\n",
       "   0.98,\n",
       "   0.9099999999999999,\n",
       "   0.9,\n",
       "   0.89],\n",
       "  'epsilon_n': [0.05, 0.05, 0.05, 0.05, 0.05, 0.05, 0.05, 0.05, 0.05, 0.05],\n",
       "  'count': 50},\n",
       " '6.0': {'propensity': [0.25,\n",
       "   0.125,\n",
       "   0.08333333333333333,\n",
       "   0.0625,\n",
       "   0.27499999999999997,\n",
       "   0.7916666666666666,\n",
       "   0.2607142857142857,\n",
       "   0.06875,\n",
       "   0.027777777777777776,\n",
       "   0.025],\n",
       "  'epsilon_p': [0.9996875000000001,\n",
       "   0.9998828125,\n",
       "   0.99984375,\n",
       "   0.9998046875,\n",
       "   0.999765625,\n",
       "   0.99890625,\n",
       "   0.995,\n",
       "   0.9775,\n",
       "   0.9,\n",
       "   0.89],\n",
       "  'epsilon_n': [0.05, 0.05, 0.05, 0.05, 0.05, 0.05, 0.05, 0.05, 0.05, 0.05],\n",
       "  'count': 50},\n",
       " '7.0': {'propensity': [0.25,\n",
       "   0.125,\n",
       "   0.08333333333333333,\n",
       "   0.0625,\n",
       "   0.05,\n",
       "   0.26666666666666666,\n",
       "   0.7857142857142857,\n",
       "   0.25625,\n",
       "   0.06527777777777778,\n",
       "   0.025],\n",
       "  'epsilon_p': [0.9996875000000001,\n",
       "   0.9998828125,\n",
       "   0.99984375,\n",
       "   0.9998046875,\n",
       "   0.999765625,\n",
       "   0.9997265625,\n",
       "   0.99875,\n",
       "   0.994375,\n",
       "   0.975,\n",
       "   0.89],\n",
       "  'epsilon_n': [0.05, 0.05, 0.05, 0.05, 0.05, 0.05, 0.05, 0.05, 0.05, 0.05],\n",
       "  'count': 50},\n",
       " '8.0': {'propensity': [0.25,\n",
       "   0.125,\n",
       "   0.08333333333333333,\n",
       "   0.0625,\n",
       "   0.05,\n",
       "   0.041666666666666664,\n",
       "   0.2607142857142857,\n",
       "   0.78125,\n",
       "   0.25277777777777777,\n",
       "   0.0625],\n",
       "  'epsilon_p': [0.9996875000000001,\n",
       "   0.9998828125,\n",
       "   0.99984375,\n",
       "   0.9998046875,\n",
       "   0.999765625,\n",
       "   0.9997265625,\n",
       "   0.9996875000000001,\n",
       "   0.99859375,\n",
       "   0.99375,\n",
       "   0.9725],\n",
       "  'epsilon_n': [0.05, 0.05, 0.05, 0.05, 0.05, 0.05, 0.05, 0.05, 0.05, 0.05],\n",
       "  'count': 50},\n",
       " '9.0': {'propensity': [0.25,\n",
       "   0.2375,\n",
       "   0.45833333333333337,\n",
       "   0.175,\n",
       "   0.06875,\n",
       "   0.041666666666666664,\n",
       "   0.1482142857142857,\n",
       "   0.40625,\n",
       "   0.14027777777777778,\n",
       "   0.04375],\n",
       "  'epsilon_p': [0.9996875000000001,\n",
       "   0.9998828125,\n",
       "   0.999609375,\n",
       "   0.99833984375,\n",
       "   0.9923828125,\n",
       "   0.96486328125,\n",
       "   0.95984375,\n",
       "   0.9542968749999999,\n",
       "   0.946875,\n",
       "   0.93125],\n",
       "  'epsilon_n': [0.05, 0.05, 0.05, 0.05, 0.05, 0.05, 0.05, 0.05, 0.05, 0.05],\n",
       "  'count': 50}}"
      ]
     },
     "execution_count": 24,
     "metadata": {},
     "output_type": "execute_result"
    }
   ],
   "source": [
    "params = create_params(outlier_share=0.75, outliers=9, topk=10, only_outliers=True)\n",
    "params['9.0'] = {}\n",
    "for key in params['8.0']:\n",
    "    if isinstance(params['8.0'][key], list):\n",
    "        params['9.0'][key] = list(0.5*np.array(params['3.0'][key]) + 0.5*np.array(params['8.0'][key]))\n",
    "    else:\n",
    "        params['9.0'][key] = params['8.0'][key]\n",
    "params"
   ]
  },
  {
   "cell_type": "code",
   "execution_count": 25,
   "metadata": {},
   "outputs": [],
   "source": [
    "\n",
    "def generate_clicks_pbm_mix_lazy(params, outliers_max_pos, topk, ds, sessions_cnt, save_path, outliers_path):\n",
    "    alphas, betas, sessions_dist = get_params(params, outliers=outliers_max_pos, topk=topk)\n",
    "      \n",
    "    print(alphas.shape[0])\n",
    "    clicks = []\n",
    "    session_inds = np.random.choice(\n",
    "        np.arange(alphas.shape[0]), \n",
    "        size=(ds.trdlr.shape[0] - 1,), replace=True, p=sessions_dist)\n",
    "    total_clicks_cnt = 0\n",
    "    outlierness = []\n",
    "    outlierness_lazy = []\n",
    "    \n",
    "#     Make the labels binary if not already!\n",
    "    if ds.trlv.max() > 1:\n",
    "        ds.trlv = np.round(ds.trlv/ds.trlv.max(), 0)\n",
    "    \n",
    "    print(ds.trdlr.shape, ds.trdlr[-1])\n",
    "    for qid in trange(ds.trdlr.shape[0] - 1, leave=False):\n",
    "        s, e = ds.trdlr[qid: qid+2]\n",
    "        session_ind = min(session_inds[qid], e-s)\n",
    "        alpha = alphas[session_ind]\n",
    "        beta = betas[session_ind]\n",
    "        q_session = np.repeat(ds.sessions[qid], sessions_cnt//ds.sessions[qid].shape[0], 0)\n",
    "        rel = ds.trlv[s:e]\n",
    "        q_a = np.ones_like(rel) * alpha[-1]\n",
    "        q_a[:min(e-s, alpha.shape[0])] = alpha[:min(e-s, alpha.shape[0])]\n",
    "        q_b = np.ones_like(rel) * beta[-1]\n",
    "        q_b[:min(e-s, beta.shape[0])] = beta[:min(e-s, beta.shape[0])]\n",
    "        c = q_a * rel[q_session] + q_b\n",
    "        clicks.append(np.random.binomial(1, c))\n",
    "        total_clicks_cnt += len(np.where(clicks[-1]==1)[0])\n",
    "        q_outliers = np.zeros(e-s)\n",
    "        q_outliers_lazy = np.zeros(e-s)\n",
    "        if session_ind > 0:\n",
    "            q_outliers[session_ind - 1] = 1.\n",
    "            if session_ind == 9:\n",
    "                session_ind = 3\n",
    "            q_outliers_lazy[session_ind - 1] = 1.\n",
    "                \n",
    "        outlierness.append(q_outliers)\n",
    "        outlierness_lazy.append(q_outliers_lazy)\n",
    "        \n",
    "    print(len(outlierness))\n",
    "    print(np.concatenate(outlierness,0).shape)\n",
    "    with open(save_path, 'wb') as f:\n",
    "        pickle.dump(clicks, f)\n",
    "    with open(outliers_path, 'wb') as f:\n",
    "        pickle.dump(np.concatenate(outlierness,0), f)\n",
    "    with open(save_path.replace('.pkl', '_lazy.pkl'), 'wb') as f:\n",
    "        pickle.dump(clicks, f)\n",
    "    with open(outliers_path.replace('.pkl', '_lazy.pkl'), 'wb') as f:\n",
    "        pickle.dump(np.concatenate(outlierness_lazy,0), f)\n",
    "    return total_clicks_cnt"
   ]
  },
  {
   "cell_type": "code",
   "execution_count": 26,
   "metadata": {},
   "outputs": [
    {
     "name": "stdout",
     "output_type": "stream",
     "text": [
      "dataset_info {'path': '_data/ltrc_yahoo/top10.set1.binarized_purged_querynorm_filtered.binrel.pkl', 'type': 'pickle'}\n",
      "in load_dataset 3123 3123 319\n",
      "num features : 699\n",
      "num docs (train, valid, test) : (3123,5000,5000)\n",
      "num queries (train, valid, test) : (319,5000,5000)\n",
      "outlier_share 0.8\n",
      "big, small, position, alpha [1.         0.5        0.33333333 0.25       0.2        0.16666667\n",
      " 0.14285714 0.125      0.11111111 0.1       ] [0.3  1.   0.3  0.05] 0 0.8\n",
      "big, small, position, alpha [1.         0.5        0.33333333 0.25       0.2        0.16666667\n",
      " 0.14285714 0.125      0.11111111 0.1       ] [0.3  1.   0.3  0.05] 1 0.8\n",
      "big, small, position, alpha [1.         0.5        0.33333333 0.25       0.2        0.16666667\n",
      " 0.14285714 0.125      0.11111111 0.1       ] [0.3  1.   0.3  0.05] 2 0.8\n",
      "big, small, position, alpha [1.         0.5        0.33333333 0.25       0.2        0.16666667\n",
      " 0.14285714 0.125      0.11111111 0.1       ] [0.3  1.   0.3  0.05] 3 0.8\n",
      "big, small, position, alpha [1.         0.5        0.33333333 0.25       0.2        0.16666667\n",
      " 0.14285714 0.125      0.11111111 0.1       ] [0.3  1.   0.3  0.05] 4 0.8\n",
      "big, small, position, alpha [1.         0.5        0.33333333 0.25       0.2        0.16666667\n",
      " 0.14285714 0.125      0.11111111 0.1       ] [0.3  1.   0.3  0.05] 5 0.8\n",
      "big, small, position, alpha [1.         0.5        0.33333333 0.25       0.2        0.16666667\n",
      " 0.14285714 0.125      0.11111111 0.1       ] [0.3  1.   0.3  0.05] 6 0.8\n",
      "big, small, position, alpha [1.         0.5        0.33333333 0.25       0.2        0.16666667\n",
      " 0.14285714 0.125      0.11111111 0.1       ] [0.3  1.   0.3  0.05] 7 0.8\n",
      "big, small, position, alpha [1.         0.5        0.33333333 0.25       0.2        0.16666667\n",
      " 0.14285714 0.125      0.11111111 0.1       ] [0.3  1.   0.3  0.05] 8 0.8\n",
      "10\n",
      "(319,) 3123\n"
     ]
    },
    {
     "data": {
      "application/vnd.jupyter.widget-view+json": {
       "model_id": "",
       "version_major": 2,
       "version_minor": 0
      },
      "text/plain": [
       "  0%|          | 0/318 [00:00<?, ?it/s]"
      ]
     },
     "metadata": {},
     "output_type": "display_data"
    },
    {
     "name": "stdout",
     "output_type": "stream",
     "text": [
      "318\n",
      "(3123,)\n",
      "yahoo -> 31232 clicks\n",
      "\n",
      "10\n",
      "(319,) 3123\n"
     ]
    },
    {
     "data": {
      "application/vnd.jupyter.widget-view+json": {
       "model_id": "",
       "version_major": 2,
       "version_minor": 0
      },
      "text/plain": [
       "  0%|          | 0/318 [00:00<?, ?it/s]"
      ]
     },
     "metadata": {},
     "output_type": "display_data"
    },
    {
     "name": "stdout",
     "output_type": "stream",
     "text": [
      "318\n",
      "(3123,)\n",
      "yahoo -> 35065 clicks\n",
      "\n",
      "10\n",
      "(319,) 3123\n"
     ]
    },
    {
     "data": {
      "application/vnd.jupyter.widget-view+json": {
       "model_id": "",
       "version_major": 2,
       "version_minor": 0
      },
      "text/plain": [
       "  0%|          | 0/318 [00:00<?, ?it/s]"
      ]
     },
     "metadata": {},
     "output_type": "display_data"
    },
    {
     "name": "stdout",
     "output_type": "stream",
     "text": [
      "318\n",
      "(3123,)\n",
      "yahoo -> 33406 clicks\n",
      "\n",
      "10\n",
      "(319,) 3123\n"
     ]
    },
    {
     "data": {
      "application/vnd.jupyter.widget-view+json": {
       "model_id": "",
       "version_major": 2,
       "version_minor": 0
      },
      "text/plain": [
       "  0%|          | 0/318 [00:00<?, ?it/s]"
      ]
     },
     "metadata": {},
     "output_type": "display_data"
    },
    {
     "name": "stdout",
     "output_type": "stream",
     "text": [
      "318\n",
      "(3123,)\n",
      "yahoo -> 33715 clicks\n",
      "\n",
      "10\n",
      "(319,) 3123\n"
     ]
    },
    {
     "data": {
      "application/vnd.jupyter.widget-view+json": {
       "model_id": "",
       "version_major": 2,
       "version_minor": 0
      },
      "text/plain": [
       "  0%|          | 0/318 [00:00<?, ?it/s]"
      ]
     },
     "metadata": {},
     "output_type": "display_data"
    },
    {
     "name": "stdout",
     "output_type": "stream",
     "text": [
      "318\n",
      "(3123,)\n",
      "yahoo -> 32638 clicks\n",
      "\n",
      "10\n",
      "(319,) 3123\n"
     ]
    },
    {
     "data": {
      "application/vnd.jupyter.widget-view+json": {
       "model_id": "",
       "version_major": 2,
       "version_minor": 0
      },
      "text/plain": [
       "  0%|          | 0/318 [00:00<?, ?it/s]"
      ]
     },
     "metadata": {},
     "output_type": "display_data"
    },
    {
     "name": "stdout",
     "output_type": "stream",
     "text": [
      "318\n",
      "(3123,)\n",
      "yahoo -> 32461 clicks\n",
      "\n"
     ]
    }
   ],
   "source": [
    "clicks_path = {'yahoo': '_data/ltrc_yahoo/top10.clicks',\n",
    "              #'mslr': '_data/MSLR-WEB30k/Fold1/top10.clicks'\n",
    "              }\n",
    "\n",
    "dataset_name = 'yahoo'\n",
    "ds = load_dataset(dataset_name, 'datasets_info.json', 400)\n",
    "params = create_params(outlier_share=0.8, outliers=9, topk=10, only_outliers=True)\n",
    "params['9.0'] = {}\n",
    "for key in params['8.0']:\n",
    "    if isinstance(params['8.0'][key], list):\n",
    "        params['9.0'][key] = list(0.5*np.array(params['3.0'][key]) + 0.5*np.array(params['8.0'][key]))\n",
    "    else:\n",
    "        params['9.0'][key] = params['8.0'][key]\n",
    "\n",
    "for count in [3, 6, 12, 25, 50, 100]:\n",
    "    params['9.0']['count'] = count\n",
    "    params_real_world = f'opbm_0.8_mix_{count}'\n",
    "\n",
    "    click_cnt = generate_clicks_pbm_mix_lazy(params = params, outliers_max_pos = 10, topk = 10, \n",
    "                                    ds = ds, sessions_cnt = 400, \n",
    "                                    save_path = f'{clicks_path[dataset_name]}_{params_real_world}.pkl', \n",
    "                                    outliers_path = f'{clicks_path[dataset_name]}_{params_real_world}.pkl'.replace('clicks', 'outlierness')\n",
    "                                   )\n",
    "    print(dataset_name, '->', click_cnt, 'clicks')\n",
    "    print()"
   ]
  },
  {
   "cell_type": "code",
   "execution_count": 111,
   "metadata": {},
   "outputs": [],
   "source": [
    "objects = []\n",
    "with (open(\"_data/ltrc_yahoo/top10.outlierness_opbm_0.50.pkl\", \"rb\")) as openfile:\n",
    "    while True:\n",
    "        try:\n",
    "            objects.append(pickle.load(openfile))\n",
    "        except EOFError:\n",
    "            break"
   ]
  },
  {
   "cell_type": "code",
   "execution_count": 112,
   "metadata": {},
   "outputs": [
    {
     "data": {
      "text/plain": [
       "3123"
      ]
     },
     "execution_count": 112,
     "metadata": {},
     "output_type": "execute_result"
    }
   ],
   "source": [
    "len(objects[0])"
   ]
  },
  {
   "cell_type": "code",
   "execution_count": 55,
   "metadata": {},
   "outputs": [],
   "source": [
    "l=objects[0]"
   ]
  },
  {
   "cell_type": "code",
   "execution_count": null,
   "metadata": {},
   "outputs": [],
   "source": []
  }
 ],
 "metadata": {
  "kernelspec": {
   "display_name": "Python 3 (ipykernel)",
   "language": "python",
   "name": "python3"
  },
  "language_info": {
   "codemirror_mode": {
    "name": "ipython",
    "version": 3
   },
   "file_extension": ".py",
   "mimetype": "text/x-python",
   "name": "python",
   "nbconvert_exporter": "python",
   "pygments_lexer": "ipython3",
   "version": "3.10.13"
  }
 },
 "nbformat": 4,
 "nbformat_minor": 4
}
